{
  "nbformat": 4,
  "nbformat_minor": 0,
  "metadata": {
    "colab": {
      "provenance": []
    },
    "kernelspec": {
      "name": "python3",
      "display_name": "Python 3"
    },
    "language_info": {
      "name": "python"
    }
  },
  "cells": [
    {
      "cell_type": "code",
      "execution_count": 1,
      "metadata": {
        "id": "YRCZogFLWnF5"
      },
      "outputs": [],
      "source": [
        "#!/usr/bin/env python\n",
        "\n",
        "\n",
        "import argparse, pathlib, sys\n",
        "import numpy as np\n",
        "import matplotlib.pyplot as plt\n",
        "from sklearn.decomposition import PCA\n",
        "from sklearn.cluster import KMeans\n",
        "from sklearn.metrics import mutual_info_score\n",
        "import umap\n",
        "from sklearn.metrics.cluster import contingency_matrix\n",
        "\n",
        "# ---------- helpers reused / adapted from the original notebook ---------- #\n",
        "\n",
        "def load_cube(path):\n",
        "    path = pathlib.Path(path)\n",
        "    if path.suffix == \".npy\":      # raw NumPy\n",
        "        cube = np.load(path)\n",
        "    elif path.suffix == \".npz\":    # compressed\n",
        "        cube = np.load(path)[\"cube\"]\n",
        "    else:\n",
        "        raise ValueError(f\"Unsupported {path}\")\n",
        "    if cube.ndim != 3:\n",
        "        raise ValueError(\"Cube must be (Ny,Nx,Ne)\")\n",
        "    return cube.astype(np.float32)\n",
        "\n",
        "def flatten_cube(cube):\n",
        "    \"\"\"(Ny,Nx,Ne) → (Npix, Ne) float32\"\"\"\n",
        "    Ny, Nx, Ne = cube.shape\n",
        "    return cube.reshape(Ny * Nx, Ne)\n",
        "\n",
        "def do_pca(X, n_comp=30):\n",
        "    pca = PCA(n_components=n_comp, svd_solver=\"randomized\", whiten=True)\n",
        "    return pca.fit_transform(X), pca\n",
        "\n",
        "def do_umap(X_pca, n_neighbors=20, min_dist=0.1):\n",
        "    reducer = umap.UMAP(\n",
        "        n_neighbors=n_neighbors,\n",
        "        min_dist=min_dist,\n",
        "        n_components=2,\n",
        "        metric=\"euclidean\",\n",
        "        random_state=42,\n",
        "    )\n",
        "    return reducer.fit_transform(X_pca), reducer\n",
        "\n",
        "def do_kmeans(emb, k=20):\n",
        "    km = KMeans(n_clusters=k, n_init=\"auto\", random_state=42)\n",
        "    return km.fit_predict(emb), km\n",
        "\n",
        "# --- revised helpers -------------------------------------------------\n",
        "def _resolve_out(path_obj, default_name):\n",
        "    \"\"\"Return a pathlib.Path to a concrete file.\"\"\"\n",
        "    return path_obj if path_obj.suffix else path_obj / default_name\n",
        "\n",
        "def plot_umap(emb, labels, out_path):\n",
        "    save_path = _resolve_out(out_path, \"umap_kmeans.png\")\n",
        "    plt.figure(figsize=(5, 5))\n",
        "    plt.scatter(emb[:, 0], emb[:, 1], s=2, c=labels, cmap=\"tab20\", rasterized=True)\n",
        "    plt.title(\"UMAP + KMeans (k=20)\")\n",
        "    plt.axis(\"off\")\n",
        "    plt.tight_layout()\n",
        "    plt.savefig(save_path, dpi=300)\n",
        "    plt.close()\n",
        "\n",
        "def plot_cluster_map(labels, shape, out_path):\n",
        "    save_path = _resolve_out(out_path, \"clusters_map.png\")\n",
        "    plt.figure(figsize=(6, 6))\n",
        "    plt.imshow(labels.reshape(shape), cmap=\"tab20\")\n",
        "    plt.title(\"Spatial distribution of K-means clusters\")\n",
        "    plt.axis(\"off\")\n",
        "    plt.tight_layout()\n",
        "    plt.savefig(save_path, dpi=300)\n",
        "    plt.close()\n",
        "\n",
        "# ---------- mutual-information analysis ---------- #\n",
        "\n",
        "def cube_integrated_intensity(cube):\n",
        "    \"\"\"Simple sum over energy axis → 2-D image (Ny,Nx).\"\"\"\n",
        "    return cube.sum(axis=2)\n",
        "\n",
        "def quantise(img, bins=10):\n",
        "    \"\"\"Convert continuous intensities to integer bins for MI.\"\"\"\n",
        "    flat = img.ravel()\n",
        "    edges = np.linspace(flat.min(), flat.max(), bins + 1, dtype=img.dtype)\n",
        "    return np.digitize(flat, edges[1:-1])   # len(edges)-1 bins\n",
        "\n",
        "def per_cluster_mi(labels, img_binned):\n",
        "    \"\"\"Mutual information between each cluster mask and intensity map.\"\"\"\n",
        "    lbl_flat = labels.ravel()\n",
        "    mi_scores = []\n",
        "    for k in np.unique(lbl_flat):\n",
        "        mask = (lbl_flat == k).astype(np.int8)\n",
        "        mi = mutual_info_score(mask, img_binned)\n",
        "        mi_scores.append(mi)\n",
        "    return np.array(mi_scores)\n",
        "\n",
        "def plot_mi_bar(mi_scores, outdir):\n",
        "    plt.figure(figsize=(6,2.5))\n",
        "    plt.bar(np.arange(len(mi_scores)), mi_scores)\n",
        "    plt.xlabel(\"Cluster label\")\n",
        "    plt.ylabel(\"Mutual information\")\n",
        "    plt.title(\"Cluster ↔ cube2 intensity MI\")\n",
        "    plt.tight_layout()\n",
        "    plt.savefig(outdir / \"mi_bar.png\", dpi=300)\n",
        "    plt.close()\n",
        "\n",
        "def plot_top_clusters(labels, mi_scores, shape, top_k, outdir):\n",
        "    top_idx = mi_scores.argsort()[::-1][:top_k]\n",
        "    for rank, k in enumerate(top_idx, 1):\n",
        "        mask = (labels == k).reshape(shape)\n",
        "        plt.figure(figsize=(5,5))\n",
        "        plt.imshow(mask, cmap=\"gray\")\n",
        "        plt.title(f\"Top-{rank} MI cluster: label {k}\")\n",
        "        plt.axis(\"off\")\n",
        "        plt.savefig(outdir / f\"top{rank}_cluster_label{k}.png\", dpi=300)\n",
        "        plt.close()\n",
        "def plot_mi_heatmap(mi_mat, out_path):\n",
        "    save_path = _resolve_out(out_path, \"mi_heatmap.png\")\n",
        "    plt.figure(figsize=(6,5))\n",
        "    plt.imshow(mi_mat, origin=\"lower\", cmap=\"viridis\")\n",
        "    plt.colorbar(label=\"MI contribution\")\n",
        "    plt.title(\"Mutual-information heat map  (cube1 clusters × cube2 clusters)\")\n",
        "    plt.xlabel(\"cube-2 cluster label\")\n",
        "    plt.ylabel(\"cube-1 cluster label\")\n",
        "    plt.tight_layout()\n",
        "    plt.savefig(save_path, dpi=300)\n",
        "    plt.close()"
      ]
    },
    {
      "cell_type": "code",
      "source": [
        "data = np.load(\"specs.npz\")"
      ],
      "metadata": {
        "id": "exIWwA8bggf9"
      },
      "execution_count": 2,
      "outputs": []
    },
    {
      "cell_type": "code",
      "source": [
        "cube1= data[\"arr_0\"]\n",
        "cube2= data[\"arr_1\"]"
      ],
      "metadata": {
        "id": "zoqxlDnWgreB"
      },
      "execution_count": 3,
      "outputs": []
    },
    {
      "cell_type": "code",
      "source": [
        "plt.imshow(cube1[:,:,4])"
      ],
      "metadata": {
        "colab": {
          "base_uri": "https://localhost:8080/",
          "height": 451
        },
        "id": "9JNkGox9g2ye",
        "outputId": "df7225da-5fb3-41cb-b69d-a7649fb10545"
      },
      "execution_count": 4,
      "outputs": [
        {
          "output_type": "execute_result",
          "data": {
            "text/plain": [
              "<matplotlib.image.AxesImage at 0x7dbd536a9850>"
            ]
          },
          "metadata": {},
          "execution_count": 4
        },
        {
          "output_type": "display_data",
          "data": {
            "text/plain": [
              "<Figure size 640x480 with 1 Axes>"
            ],
            "image/png": "[encoded data removed]"
          },
          "metadata": {}
        }
      ]
    },
    {
      "cell_type": "code",
      "source": [
        "plt.imshow(cube2[:,:,4])"
      ],
      "metadata": {
        "colab": {
          "base_uri": "https://localhost:8080/",
          "height": 451
        },
        "id": "3PFHeuGWg-b4",
        "outputId": "a662f360-0f9e-42ee-e1a8-35e20e822032"
      },
      "execution_count": 5,
      "outputs": [
        {
          "output_type": "execute_result",
          "data": {
            "text/plain": [
              "<matplotlib.image.AxesImage at 0x7dbd5114b090>"
            ]
          },
          "metadata": {},
          "execution_count": 5
        },
        {
          "output_type": "display_data",
          "data": {
            "text/plain": [
              "<Figure size 640x480 with 1 Axes>"
            ],
            "image/png": "[encoded data removed]"
          },
          "metadata": {}
        }
      ]
    },
    {
      "cell_type": "code",
      "source": [
        "%%time\n",
        "# ---------------------------------------------------------------------\n",
        "# 1. load cubes (already background-corrected)\n",
        "# ---------------------------------------------------------------------\n",
        "data   = np.load(\"specs.npz\")\n",
        "cube1  = data[\"arr_0\"].astype(np.float32)           # (Ny, Nx, Ne)\n",
        "cube2  = data[\"arr_1\"].astype(np.float32)\n",
        "Ny, Nx, Ne = cube1.shape\n",
        "outdir = pathlib.Path(\"outdata\")\n",
        "outdir.mkdir(exist_ok=True, parents=True)\n",
        "\n",
        "# ---------------------------------------------------------------------\n",
        "# 2a. cube-1   PCA → UMAP → KMeans\n",
        "# ---------------------------------------------------------------------\n",
        "X1_flat       = flatten_cube(cube1)                       # (Npix, Ne)\n",
        "X1_pca, _     = do_pca(X1_flat, n_comp=30)\n",
        "emb1, _       = do_umap(X1_pca)\n",
        "lbl1, _       = do_kmeans(emb1, k=20)\n",
        "plot_umap(emb1, lbl1, outdir / \"c1_umap.png\")\n",
        "plot_cluster_map(lbl1, (Ny, Nx), outdir / \"c1_clusters.png\")\n",
        "\n",
        "# ---------------------------------------------------------------------\n",
        "# 2b. cube-2   PCA → UMAP → KMeans\n",
        "# ---------------------------------------------------------------------\n",
        "X2_flat       = flatten_cube(cube2)\n",
        "X2_pca, _     = do_pca(X2_flat, n_comp=30)\n",
        "emb2, _       = do_umap(X2_pca)\n",
        "lbl2, _       = do_kmeans(emb2, k=20)\n",
        "plot_umap(emb2, lbl2, outdir / \"c2_umap.png\")\n",
        "plot_cluster_map(lbl2, (Ny, Nx), outdir / \"c2_clusters.png\")\n",
        "\n",
        "# ---------------------------------------------------------------------\n",
        "# 3. mutual information between the TWO 20-label maps\n",
        "# ---------------------------------------------------------------------\n",
        "# global (single value) MI\n",
        "global_mi = mutual_info_score(lbl1.ravel(), lbl2.ravel())\n",
        "print(f\"Global MI(lbl1,lbl2) = {global_mi:.4f}\")\n",
        "\n",
        "# per-pair MI contribution matrix  (20 × 20)\n",
        "cont      = contingency_matrix(lbl1.ravel(), lbl2.ravel())  # sklearn 1.4+\n",
        "N         = cont.sum()\n",
        "row_sum   = cont.sum(1, keepdims=True)\n",
        "col_sum   = cont.sum(0, keepdims=True)\n",
        "with np.errstate(divide='ignore', invalid='ignore'):\n",
        "    log_term = np.where(cont == 0, 0,\n",
        "                        np.log( (cont * N) / (row_sum * col_sum) ))\n",
        "pair_mi   = (cont / N) * log_term          # element-wise\n",
        "pair_mi[np.isnan(pair_mi)] = 0.0\n",
        "\n",
        "# 4. top-3 (i,j) pairs by MI contribution\n",
        "top3 = np.dstack(np.unravel_index(np.argsort(pair_mi, axis=None)[-3:], pair_mi.shape))[0]\n",
        "for rank, (i, j) in enumerate(top3[::-1], 1):            # largest first\n",
        "    mask = np.logical_and(lbl1.reshape(Ny,Nx) == i,\n",
        "                          lbl2.reshape(Ny,Nx) == j)\n",
        "    plt.figure(figsize=(5,5))\n",
        "    plt.imshow(mask, cmap=\"gray\")\n",
        "    plt.title(f\"Top-{rank} pair: cube1-{i} & cube2-{j}\\nMI contrib = {pair_mi[i,j]:.4e}\")\n",
        "    plt.axis(\"off\")\n",
        "    plt.tight_layout()\n",
        "    plt.savefig(outdir / f\"top{rank}_pair_c1_{i}_c2_{j}.png\", dpi=300)\n",
        "    plt.close()\n",
        "\n",
        "# 5. save artefacts\n",
        "np.save(outdir / \"cube1_labels.npy\", lbl1.reshape(Ny, Nx))\n",
        "np.save(outdir / \"cube2_labels.npy\", lbl2.reshape(Ny, Nx))\n",
        "np.save(outdir / \"pair_mi.npy\",     pair_mi)\n",
        "plot_mi_heatmap(pair_mi, outdir)\n",
        "\n",
        "print(f\"Done. Results in {outdir.resolve()}\")\n"
      ],
      "metadata": {
        "colab": {
          "base_uri": "https://localhost:8080/"
        },
        "id": "_AO_aFpkW-Kn",
        "outputId": "327162de-b6ea-4bcf-eb65-0dff280dab29"
      },
      "execution_count": 6,
      "outputs": [
        {
          "output_type": "stream",
          "name": "stderr",
          "text": [
            "/usr/local/lib/python3.11/dist-packages/umap/umap_.py:1952: UserWarning: n_jobs value 1 overridden to 1 by setting random_state. Use no seed for parallelism.\n",
            "  warn(\n",
            "/usr/local/lib/python3.11/dist-packages/umap/umap_.py:1952: UserWarning: n_jobs value 1 overridden to 1 by setting random_state. Use no seed for parallelism.\n",
            "  warn(\n"
          ]
        },
        {
          "output_type": "stream",
          "name": "stdout",
          "text": [
            "Global MI(lbl1,lbl2) = 0.6319\n",
            "Done. Results in /content/outdata\n",
            "CPU times: user 1min 35s, sys: 1.7 s, total: 1min 36s\n",
            "Wall time: 1min 35s\n"
          ]
        }
      ]
    },
    {
      "cell_type": "code",
      "source": [],
      "metadata": {
        "id": "3a_JvLsNsiXT"
      },
      "execution_count": 8,
      "outputs": []
    },
    {
      "cell_type": "markdown",
      "source": [
        "try installing eelsmapper"
      ],
      "metadata": {
        "id": "UBxRhYx6zZ_m"
      }
    },
    {
      "cell_type": "code",
      "source": [
        "# 1. Install (once)\n",
        "!pip install eelsmapper"
      ],
      "metadata": {
        "colab": {
          "base_uri": "https://localhost:8080/"
        },
        "id": "BdP-Fmt7sk4V",
        "outputId": "8e18b832-ca14-45d1-b587-c9a1f0702d16"
      },
      "execution_count": 9,
      "outputs": [
        {
          "output_type": "stream",
          "name": "stdout",
          "text": [
            "Collecting eelsmapper\n",
            "  Downloading eelsmapper-0.2.1-py3-none-any.whl.metadata (2.9 kB)\n",
            "Requirement already satisfied: numpy in /usr/local/lib/python3.11/dist-packages (from eelsmapper) (2.0.2)\n",
            "Requirement already satisfied: scikit-learn in /usr/local/lib/python3.11/dist-packages (from eelsmapper) (1.6.1)\n",
            "Requirement already satisfied: matplotlib in /usr/local/lib/python3.11/dist-packages (from eelsmapper) (3.10.0)\n",
            "Requirement already satisfied: contourpy>=1.0.1 in /usr/local/lib/python3.11/dist-packages (from matplotlib->eelsmapper) (1.3.2)\n",
            "Requirement already satisfied: cycler>=0.10 in /usr/local/lib/python3.11/dist-packages (from matplotlib->eelsmapper) (0.12.1)\n",
            "Requirement already satisfied: fonttools>=4.22.0 in /usr/local/lib/python3.11/dist-packages (from matplotlib->eelsmapper) (4.58.4)\n",
            "Requirement already satisfied: kiwisolver>=1.3.1 in /usr/local/lib/python3.11/dist-packages (from matplotlib->eelsmapper) (1.4.8)\n",
            "Requirement already satisfied: packaging>=20.0 in /usr/local/lib/python3.11/dist-packages (from matplotlib->eelsmapper) (24.2)\n",
            "Requirement already satisfied: pillow>=8 in /usr/local/lib/python3.11/dist-packages (from matplotlib->eelsmapper) (11.2.1)\n",
            "Requirement already satisfied: pyparsing>=2.3.1 in /usr/local/lib/python3.11/dist-packages (from matplotlib->eelsmapper) (3.2.3)\n",
            "Requirement already satisfied: python-dateutil>=2.7 in /usr/local/lib/python3.11/dist-packages (from matplotlib->eelsmapper) (2.9.0.post0)\n",
            "Requirement already satisfied: scipy>=1.6.0 in /usr/local/lib/python3.11/dist-packages (from scikit-learn->eelsmapper) (1.15.3)\n",
            "Requirement already satisfied: joblib>=1.2.0 in /usr/local/lib/python3.11/dist-packages (from scikit-learn->eelsmapper) (1.5.1)\n",
            "Requirement already satisfied: threadpoolctl>=3.1.0 in /usr/local/lib/python3.11/dist-packages (from scikit-learn->eelsmapper) (3.6.0)\n",
            "Requirement already satisfied: six>=1.5 in /usr/local/lib/python3.11/dist-packages (from python-dateutil>=2.7->matplotlib->eelsmapper) (1.17.0)\n",
            "Downloading eelsmapper-0.2.1-py3-none-any.whl (2.9 kB)\n",
            "Installing collected packages: eelsmapper\n",
            "Successfully installed eelsmapper-0.2.1\n"
          ]
        }
      ]
    },
    {
      "cell_type": "code",
      "source": [
        "# 2. In a Python script / Jupyter notebook\n",
        "import numpy as np\n",
        "from eelsmapper.pipeline import run_pipeline  # main helper\n",
        "\n",
        "# --- load your STEM-EELS cube -----------------\n",
        "# cube.shape → (rows, cols, energy_channels)\n",
        "cube = np.load(\"specs.npz\")[\"arr_0\"]\n",
        "\n",
        "# flatten to (pixels, energy) as expected by the pipeline\n",
        "X = cube.reshape(-1, cube.shape[-1])\n",
        "\n",
        "# --- fire the full workflow -------------------\n",
        "out = run_pipeline(X)\n",
        "\n",
        "# out is a dict with:\n",
        "#   out[\"denoised\"]      – PCA-denoised spectra\n",
        "#   out[\"embedded\"]      – 2-D t-SNE/UMAP coordinates\n",
        "#   out[\"clusters\"]      – k-means labels\n",
        "#   out[\"vq\"]            – vector-quantised spectra\n",
        "#   out[\"mutual_info\"]   – MI matrix between clusters\n"
      ],
      "metadata": {
        "colab": {
          "base_uri": "https://localhost:8080/",
          "height": 518
        },
        "id": "kbuif-AMzb_K",
        "outputId": "ad423792-1307-4d1a-fd94-554efe31e763"
      },
      "execution_count": 10,
      "outputs": [
        {
          "output_type": "error",
          "ename": "ModuleNotFoundError",
          "evalue": "No module named 'eelsmapper.preprocessing'",
          "traceback": [
            "\u001b[0;31m---------------------------------------------------------------------------\u001b[0m",
            "\u001b[0;31mModuleNotFoundError\u001b[0m                       Traceback (most recent call last)",
            "\u001b[0;32m/tmp/ipython-input-10-430551309.py\u001b[0m in \u001b[0;36m<cell line: 0>\u001b[0;34m()\u001b[0m\n\u001b[1;32m      1\u001b[0m \u001b[0;31m# 2. In a Python script / Jupyter notebook\u001b[0m\u001b[0;34m\u001b[0m\u001b[0;34m\u001b[0m\u001b[0m\n\u001b[1;32m      2\u001b[0m \u001b[0;32mimport\u001b[0m \u001b[0mnumpy\u001b[0m \u001b[0;32mas\u001b[0m \u001b[0mnp\u001b[0m\u001b[0;34m\u001b[0m\u001b[0;34m\u001b[0m\u001b[0m\n\u001b[0;32m----> 3\u001b[0;31m \u001b[0;32mfrom\u001b[0m \u001b[0meelsmapper\u001b[0m\u001b[0;34m.\u001b[0m\u001b[0mpipeline\u001b[0m \u001b[0;32mimport\u001b[0m \u001b[0mrun_pipeline\u001b[0m  \u001b[0;31m# main helper\u001b[0m\u001b[0;34m\u001b[0m\u001b[0;34m\u001b[0m\u001b[0m\n\u001b[0m\u001b[1;32m      4\u001b[0m \u001b[0;34m\u001b[0m\u001b[0m\n\u001b[1;32m      5\u001b[0m \u001b[0;31m# --- load your STEM-EELS cube -----------------\u001b[0m\u001b[0;34m\u001b[0m\u001b[0;34m\u001b[0m\u001b[0m\n",
            "\u001b[0;32m/usr/local/lib/python3.11/dist-packages/eelsmapper/pipeline.py\u001b[0m in \u001b[0;36m<module>\u001b[0;34m\u001b[0m\n\u001b[0;32m----> 1\u001b[0;31m \u001b[0;32mfrom\u001b[0m \u001b[0meelsmapper\u001b[0m\u001b[0;34m.\u001b[0m\u001b[0mpreprocessing\u001b[0m\u001b[0;34m.\u001b[0m\u001b[0mpca_denoising\u001b[0m \u001b[0;32mimport\u001b[0m \u001b[0mpca_denoise\u001b[0m\u001b[0;34m\u001b[0m\u001b[0;34m\u001b[0m\u001b[0m\n\u001b[0m\u001b[1;32m      2\u001b[0m \u001b[0;32mfrom\u001b[0m \u001b[0meelsmapper\u001b[0m\u001b[0;34m.\u001b[0m\u001b[0membedding\u001b[0m\u001b[0;34m.\u001b[0m\u001b[0mtsne\u001b[0m \u001b[0;32mimport\u001b[0m \u001b[0mtsne_embed\u001b[0m\u001b[0;34m\u001b[0m\u001b[0;34m\u001b[0m\u001b[0m\n\u001b[1;32m      3\u001b[0m \u001b[0;32mfrom\u001b[0m \u001b[0meelsmapper\u001b[0m\u001b[0;34m.\u001b[0m\u001b[0mclustering\u001b[0m\u001b[0;34m.\u001b[0m\u001b[0mkmeans\u001b[0m \u001b[0;32mimport\u001b[0m \u001b[0mkmeans_cluster\u001b[0m\u001b[0;34m\u001b[0m\u001b[0;34m\u001b[0m\u001b[0m\n\u001b[1;32m      4\u001b[0m \u001b[0;32mfrom\u001b[0m \u001b[0meelsmapper\u001b[0m\u001b[0;34m.\u001b[0m\u001b[0manalysis\u001b[0m\u001b[0;34m.\u001b[0m\u001b[0mmutual_info\u001b[0m \u001b[0;32mimport\u001b[0m \u001b[0mmutual_info_matrix\u001b[0m\u001b[0;34m\u001b[0m\u001b[0;34m\u001b[0m\u001b[0m\n\u001b[1;32m      5\u001b[0m \u001b[0;32mfrom\u001b[0m \u001b[0meelsmapper\u001b[0m\u001b[0;34m.\u001b[0m\u001b[0manalysis\u001b[0m\u001b[0;34m.\u001b[0m\u001b[0mvector_quant\u001b[0m \u001b[0;32mimport\u001b[0m \u001b[0mvector_quantization\u001b[0m\u001b[0;34m\u001b[0m\u001b[0;34m\u001b[0m\u001b[0m\n",
            "\u001b[0;31mModuleNotFoundError\u001b[0m: No module named 'eelsmapper.preprocessing'",
            "",
            "\u001b[0;31m---------------------------------------------------------------------------\u001b[0;32m\nNOTE: If your import is failing due to a missing package, you can\nmanually install dependencies using either !pip or !apt.\n\nTo view examples of installing some common dependencies, click the\n\"Open Examples\" button below.\n\u001b[0;31m---------------------------------------------------------------------------\u001b[0m\n"
          ],
          "errorDetails": {
            "actions": [
              {
                "action": "open_url",
                "actionText": "Open Examples",
                "url": "/notebooks/snippets/importing_libraries.ipynb"
              }
            ]
          }
        }
      ]
    },
    {
      "cell_type": "code",
      "source": [
        "import eelsmapper\n",
        "eelsmapper.__dir__()"
      ],
      "metadata": {
        "colab": {
          "base_uri": "https://localhost:8080/"
        },
        "id": "lnyF9_9BzqAT",
        "outputId": "41acd449-b2d1-4e2b-de8f-44b73eb6fb79"
      },
      "execution_count": 1,
      "outputs": [
        {
          "output_type": "execute_result",
          "data": {
            "text/plain": [
              "['__name__',\n",
              " '__doc__',\n",
              " '__package__',\n",
              " '__loader__',\n",
              " '__spec__',\n",
              " '__path__',\n",
              " '__file__',\n",
              " '__cached__',\n",
              " '__builtins__',\n",
              " '__version__']"
            ]
          },
          "metadata": {},
          "execution_count": 1
        }
      ]
    },
    {
      "cell_type": "code",
      "source": [
        "from eelsmapper.pipeline import run_pipeline"
      ],
      "metadata": {
        "id": "zt6Vwo1S10MH"
      },
      "execution_count": 2,
      "outputs": []
    },
    {
      "cell_type": "code",
      "source": [
        "import numpy as np\n",
        "data = np.load(\"specs.npz\")[\"arr_0\"]\n",
        "run_pipeline(data.reshape(-1,data.shape[-1]))"
      ],
      "metadata": {
        "colab": {
          "base_uri": "https://localhost:8080/"
        },
        "id": "IZcd3gg_1mhJ",
        "outputId": "4ba4af79-68e8-4036-d2f3-bdca5f8d14fd"
      },
      "execution_count": 5,
      "outputs": [
        {
          "output_type": "execute_result",
          "data": {
            "text/plain": [
              "{'denoised': array([[ 2.60902411e-15,  2.91838792e-02,  5.91193689e-02, ...,\n",
              "          9.73259186e-01,  9.87022220e-01,  1.00000000e+00],\n",
              "        [-2.71449530e-14,  3.09263665e-02,  5.21369986e-02, ...,\n",
              "          9.70884672e-01,  9.87652073e-01,  1.00000000e+00],\n",
              "        [-2.96429548e-14,  3.10691898e-02,  5.15646872e-02, ...,\n",
              "          9.70690044e-01,  9.87703699e-01,  1.00000000e+00],\n",
              "        ...,\n",
              "        [ 1.22679644e-14,  4.41823031e-02,  9.11549009e-02, ...,\n",
              "          9.66265775e-01,  9.84165136e-01,  1.00000000e+00],\n",
              "        [ 1.07691633e-14,  4.17482250e-02,  8.59558890e-02, ...,\n",
              "          9.67400728e-01,  9.84628809e-01,  1.00000000e+00],\n",
              "        [ 2.60902411e-15,  2.91838792e-02,  5.91193689e-02, ...,\n",
              "          9.73259186e-01,  9.87022220e-01,  1.00000000e+00]]),\n",
              " 'embedded': array([[ -40.02357 ,   62.694305],\n",
              "        [-100.776825,  -23.660635],\n",
              "        [ -99.970085,  -26.090946],\n",
              "        ...,\n",
              "        [ -26.140213,   23.32635 ],\n",
              "        [ -31.677624,   18.88041 ],\n",
              "        [ -40.02357 ,   62.694305]], dtype=float32),\n",
              " 'clusters': array([0, 3, 3, ..., 0, 0, 0], dtype=int32),\n",
              " 'vq': array([[0.08012397, 0.08564605, 0.08670669, ..., 0.96537889, 0.98486409,\n",
              "         1.        ],\n",
              "        [0.08012397, 0.08564605, 0.08670669, ..., 0.96537889, 0.98486409,\n",
              "         1.        ],\n",
              "        [0.08012397, 0.08564605, 0.08670669, ..., 0.96537889, 0.98486409,\n",
              "         1.        ],\n",
              "        ...,\n",
              "        [0.08012397, 0.08564605, 0.08670669, ..., 0.96537889, 0.98486409,\n",
              "         1.        ],\n",
              "        [0.08012397, 0.08564605, 0.08670669, ..., 0.96537889, 0.98486409,\n",
              "         1.        ],\n",
              "        [0.08012397, 0.08564605, 0.08670669, ..., 0.96537889, 0.98486409,\n",
              "         1.        ]]),\n",
              " 'mutual_info': array([[1.58512327]])}"
            ]
          },
          "metadata": {},
          "execution_count": 5
        }
      ]
    },
    {
      "cell_type": "code",
      "source": [],
      "metadata": {
        "id": "O65WZqV-1qkF"
      },
      "execution_count": null,
      "outputs": []
    }
  ]
}